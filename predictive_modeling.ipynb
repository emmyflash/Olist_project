{
 "cells": [
  {
   "cell_type": "code",
   "execution_count": 2,
   "id": "5cf70a5d",
   "metadata": {},
   "outputs": [],
   "source": [
    "import pandas as pd\n",
    "import numpy as np"
   ]
  },
  {
   "cell_type": "code",
   "execution_count": 13,
   "id": "71941c17",
   "metadata": {},
   "outputs": [],
   "source": [
    "df_cleaned = pd.read_csv(\"olist_cleaned.csv\", parse_dates=[\"order_purchase_timestamp\", \"order_approved_at\", \"order_delivered_carrier_date\", \"order_delivered_customer_date\", \"order_estimated_delivery_date\"])"
   ]
  },
  {
   "cell_type": "code",
   "execution_count": 14,
   "id": "38a22172",
   "metadata": {},
   "outputs": [],
   "source": [
    "olist = df_cleaned[[\"customer_unique_id\",\"order_id\",\"order_status\",\"order_purchase_timestamp\"]]"
   ]
  },
  {
   "cell_type": "code",
   "execution_count": 15,
   "id": "ef1742be",
   "metadata": {},
   "outputs": [],
   "source": [
    "#sorting my  values by order_purchase_timestamp\n",
    "olist = olist.sort_values('order_purchase_timestamp')\n",
    "#counting purchase by customer\n",
    "purchase_count = olist.groupby(\"customer_unique_id\")[\"order_id\"].count()\n",
    "#my repeat customers \n",
    "repeat_customer = purchase_count.apply(lambda x : 1 if x > 1 else 0 )\n",
    "olist = olist.merge(repeat_customer.rename(\"target\"), on = \"customer_unique_id\")"
   ]
  },
  {
   "cell_type": "code",
   "execution_count": 16,
   "id": "c8d1d96c",
   "metadata": {},
   "outputs": [
    {
     "name": "stdout",
     "output_type": "stream",
     "text": [
      "<class 'pandas.core.frame.DataFrame'>\n",
      "RangeIndex: 118307 entries, 0 to 118306\n",
      "Data columns (total 5 columns):\n",
      " #   Column                    Non-Null Count   Dtype         \n",
      "---  ------                    --------------   -----         \n",
      " 0   customer_unique_id        118307 non-null  object        \n",
      " 1   order_id                  118307 non-null  object        \n",
      " 2   order_status              118307 non-null  object        \n",
      " 3   order_purchase_timestamp  118307 non-null  datetime64[ns]\n",
      " 4   target                    118307 non-null  int64         \n",
      "dtypes: datetime64[ns](1), int64(1), object(3)\n",
      "memory usage: 4.5+ MB\n"
     ]
    }
   ],
   "source": [
    "olist.info()"
   ]
  },
  {
   "cell_type": "code",
   "execution_count": 17,
   "id": "c79f12b1",
   "metadata": {},
   "outputs": [],
   "source": [
    "olist[\"purchase_hour\"] = olist[\"order_purchase_timestamp\"].dt.hour\n",
    "olist[\"purchase_day\"] = olist[\"order_purchase_timestamp\"].dt.day_of_week\n",
    "olist[\"purchase_month\"] = olist[\"order_purchase_timestamp\"].dt.month\n",
    "\n",
    "olist[\"order_status_encoded\"] = olist[\"order_status\"].astype(\"category\").cat.codes"
   ]
  },
  {
   "cell_type": "code",
   "execution_count": 18,
   "id": "1fcfb42b",
   "metadata": {},
   "outputs": [],
   "source": [
    "features = (\n",
    "    olist.groupby(\"customer_unique_id\")\n",
    "         .agg({\n",
    "             \"purchase_hour\": \"mean\",\n",
    "             \"purchase_day\": \"mean\",\n",
    "             \"purchase_month\": \"mean\",\n",
    "            \"order_status_encoded\": \"mean\"})\n",
    "         .reset_index())\n"
   ]
  },
  {
   "cell_type": "code",
   "execution_count": 19,
   "id": "60fb6a0b",
   "metadata": {},
   "outputs": [],
   "source": [
    "feature = features.merge(olist[[\"customer_unique_id\",\"target\"]], on= \"customer_unique_id\")"
   ]
  },
  {
   "cell_type": "code",
   "execution_count": 20,
   "id": "f7d1b6b0",
   "metadata": {},
   "outputs": [
    {
     "data": {
      "text/html": [
       "<div>\n",
       "<style scoped>\n",
       "    .dataframe tbody tr th:only-of-type {\n",
       "        vertical-align: middle;\n",
       "    }\n",
       "\n",
       "    .dataframe tbody tr th {\n",
       "        vertical-align: top;\n",
       "    }\n",
       "\n",
       "    .dataframe thead th {\n",
       "        text-align: right;\n",
       "    }\n",
       "</style>\n",
       "<table border=\"1\" class=\"dataframe\">\n",
       "  <thead>\n",
       "    <tr style=\"text-align: right;\">\n",
       "      <th></th>\n",
       "      <th>customer_unique_id</th>\n",
       "      <th>purchase_hour</th>\n",
       "      <th>purchase_day</th>\n",
       "      <th>purchase_month</th>\n",
       "      <th>order_status_encoded</th>\n",
       "      <th>target</th>\n",
       "    </tr>\n",
       "  </thead>\n",
       "  <tbody>\n",
       "    <tr>\n",
       "      <th>0</th>\n",
       "      <td>0000366f3b9a7992bf8c76cfdf3221e2</td>\n",
       "      <td>10.0</td>\n",
       "      <td>3.0</td>\n",
       "      <td>5.0</td>\n",
       "      <td>2.0</td>\n",
       "      <td>0</td>\n",
       "    </tr>\n",
       "    <tr>\n",
       "      <th>1</th>\n",
       "      <td>0000b849f77a49e4a4ce2b2a4ca5be3f</td>\n",
       "      <td>11.0</td>\n",
       "      <td>0.0</td>\n",
       "      <td>5.0</td>\n",
       "      <td>2.0</td>\n",
       "      <td>0</td>\n",
       "    </tr>\n",
       "    <tr>\n",
       "      <th>2</th>\n",
       "      <td>0000f46a3911fa3c0805444483337064</td>\n",
       "      <td>21.0</td>\n",
       "      <td>4.0</td>\n",
       "      <td>3.0</td>\n",
       "      <td>2.0</td>\n",
       "      <td>0</td>\n",
       "    </tr>\n",
       "    <tr>\n",
       "      <th>3</th>\n",
       "      <td>0000f6ccb0745a6a4b88665a16c9f078</td>\n",
       "      <td>20.0</td>\n",
       "      <td>3.0</td>\n",
       "      <td>10.0</td>\n",
       "      <td>2.0</td>\n",
       "      <td>0</td>\n",
       "    </tr>\n",
       "    <tr>\n",
       "      <th>4</th>\n",
       "      <td>0004aac84e0df4da2b147fca70cf8255</td>\n",
       "      <td>19.0</td>\n",
       "      <td>1.0</td>\n",
       "      <td>11.0</td>\n",
       "      <td>2.0</td>\n",
       "      <td>0</td>\n",
       "    </tr>\n",
       "  </tbody>\n",
       "</table>\n",
       "</div>"
      ],
      "text/plain": [
       "                 customer_unique_id  purchase_hour  purchase_day  \\\n",
       "0  0000366f3b9a7992bf8c76cfdf3221e2           10.0           3.0   \n",
       "1  0000b849f77a49e4a4ce2b2a4ca5be3f           11.0           0.0   \n",
       "2  0000f46a3911fa3c0805444483337064           21.0           4.0   \n",
       "3  0000f6ccb0745a6a4b88665a16c9f078           20.0           3.0   \n",
       "4  0004aac84e0df4da2b147fca70cf8255           19.0           1.0   \n",
       "\n",
       "   purchase_month  order_status_encoded  target  \n",
       "0             5.0                   2.0       0  \n",
       "1             5.0                   2.0       0  \n",
       "2             3.0                   2.0       0  \n",
       "3            10.0                   2.0       0  \n",
       "4            11.0                   2.0       0  "
      ]
     },
     "execution_count": 20,
     "metadata": {},
     "output_type": "execute_result"
    }
   ],
   "source": [
    "feature.head()"
   ]
  },
  {
   "cell_type": "code",
   "execution_count": 21,
   "id": "a4003beb",
   "metadata": {},
   "outputs": [],
   "source": [
    "x = feature.drop([\"customer_unique_id\", \"target\"], axis= 1)\n",
    "y = feature[\"target\"]"
   ]
  },
  {
   "cell_type": "code",
   "execution_count": 23,
   "id": "3148d52d",
   "metadata": {},
   "outputs": [
    {
     "name": "stdout",
     "output_type": "stream",
     "text": [
      "Collecting joblib\n",
      "  Downloading joblib-1.5.2-py3-none-any.whl.metadata (5.6 kB)\n",
      "Downloading joblib-1.5.2-py3-none-any.whl (308 kB)\n",
      "Installing collected packages: joblib\n",
      "Successfully installed joblib-1.5.2\n"
     ]
    },
    {
     "name": "stderr",
     "output_type": "stream",
     "text": [
      "\n",
      "[notice] A new release of pip is available: 25.1.1 -> 25.2\n",
      "[notice] To update, run: python.exe -m pip install --upgrade pip\n"
     ]
    }
   ],
   "source": [
    "!pip install joblib"
   ]
  },
  {
   "cell_type": "code",
   "execution_count": 26,
   "id": "58464e03",
   "metadata": {},
   "outputs": [
    {
     "name": "stdout",
     "output_type": "stream",
     "text": [
      "Note: you may need to restart the kernel to use updated packages.\n"
     ]
    },
    {
     "name": "stderr",
     "output_type": "stream",
     "text": [
      "ERROR: Could not find a version that satisfies the requirement scikitlearn (from versions: none)\n",
      "\n",
      "[notice] A new release of pip is available: 25.1.1 -> 25.2\n",
      "[notice] To update, run: python.exe -m pip install --upgrade pip\n",
      "ERROR: No matching distribution found for scikitlearn\n"
     ]
    }
   ],
   "source": [
    "pip install scikitlearn"
   ]
  },
  {
   "cell_type": "code",
   "execution_count": null,
   "id": "1fcf21f3",
   "metadata": {},
   "outputs": [],
   "source": [
    "import joblib\n",
    "import sklearn.metrics as sm\n",
    "from sklearn.model_selection import train_test_split\n",
    "from sklearn.model_selection import StratifiedKFold\n",
    "from sklearn.preprocessing import StandardScaler\n",
    "from sklearn.ensemble import RandomForestClassifier\n",
    "from sklearn.linear_model import LogisticRegression\n",
    "from xgboost import XGBClassifier"
   ]
  },
  {
   "cell_type": "code",
   "execution_count": null,
   "id": "33e69356",
   "metadata": {},
   "outputs": [],
   "source": [
    "x_train,x_test,y_train,y_test = train_test_split(x,y , test_size= 0.2 , random_state=42)"
   ]
  },
  {
   "cell_type": "code",
   "execution_count": null,
   "id": "3761c9bb",
   "metadata": {},
   "outputs": [],
   "source": [
    "scaler = StandardScaler()\n",
    "x_train_scaled = scaler.fit_transform(x_train)\n",
    "x_test_scaled = scaler.transform(x_test)\n"
   ]
  },
  {
   "cell_type": "code",
   "execution_count": null,
   "id": "ec6f4e9c",
   "metadata": {},
   "outputs": [],
   "source": [
    "log_reg = LogisticRegression(class_weight=\"balanced\", random_state=42 )\n",
    "log_reg.fit(x_train_scaled , y_train)"
   ]
  },
  {
   "cell_type": "code",
   "execution_count": null,
   "id": "235dd2ac",
   "metadata": {},
   "outputs": [],
   "source": [
    "y_predict = log_reg.predict(x_test_scaled)\n",
    "conf_metric = sm.confusion_matrix(y_test, y_predict)\n",
    "accuracy_score = sm.accuracy_score(y_test , y_predict)\n",
    "precision_score = sm.precision_score(y_test , y_predict)\n",
    "recall_score =  sm.recall_score(y_test, y_predict)\n",
    "f1_score = sm.f1_score(y_test , y_predict)\n",
    "classf_report = sm.classification_report(y_test , y_predict)"
   ]
  },
  {
   "cell_type": "code",
   "execution_count": null,
   "id": "c1beac2a",
   "metadata": {},
   "outputs": [],
   "source": [
    "print(f\"Accuracy: {accuracy_score:.2f}\")\n",
    "print(f\"Precision: {precision_score:.2f}\")\n",
    "print(f\"Recall: {recall_score:.2f}\")\n",
    "print(f\"F1-Score: {f1_score:.2f}\")\n",
    "print(\"Classification Report:\")\n",
    "print(sm.classification_report(y_test, y_predict))"
   ]
  },
  {
   "cell_type": "code",
   "execution_count": null,
   "id": "a7056c35",
   "metadata": {},
   "outputs": [],
   "source": [
    "print(\"Confusion Matrix:\")\n",
    "print(conf_metric)\n",
    "plt.figure(figsize = (10,7))\n",
    "sns.heatmap(conf_metric, annot = True)\n",
    "plt.xlabel('Predicted')\n",
    "plt.ylabel('Truth')\n",
    "plt.show()"
   ]
  },
  {
   "cell_type": "markdown",
   "id": "391ebba6",
   "metadata": {},
   "source": [
    "using Random Forest"
   ]
  },
  {
   "cell_type": "code",
   "execution_count": null,
   "id": "60b20185",
   "metadata": {},
   "outputs": [],
   "source": [
    "from sklearn.model_selection import cross_val_score"
   ]
  },
  {
   "cell_type": "code",
   "execution_count": null,
   "id": "9c77e157",
   "metadata": {},
   "outputs": [],
   "source": [
    "rf = RandomForestClassifier(n_estimators=100 , max_depth=5 , random_state=42, n_jobs=1, class_weight=\"balanced\")\n",
    "cv = StratifiedKFold(n_splits=5, shuffle=True, random_state=42)"
   ]
  },
  {
   "cell_type": "code",
   "execution_count": null,
   "id": "9d7cdbc9",
   "metadata": {},
   "outputs": [],
   "source": [
    "rf.fit(x_train, y_train)\n",
    "\n",
    "# Predict\n",
    "y_pred_rf = rf.predict(x_test)\n",
    "\n",
    "conf_metric_rf = sm.confusion_matrix(y_test, y_pred_rf)\n",
    "accuracy_score_rf = sm.accuracy_score(y_test , y_pred_rf)\n",
    "precision_score_rf = sm.precision_score(y_test , y_pred_rf)\n",
    "recall_score_rf =  sm.recall_score(y_test, y_pred_rf)\n",
    "f1_score_rf = sm.f1_score(y_test , y_pred_rf)\n",
    "classf_report_rf = sm.classification_report(y_test , y_pred_rf)"
   ]
  },
  {
   "cell_type": "code",
   "execution_count": null,
   "id": "7baca96e",
   "metadata": {},
   "outputs": [],
   "source": [
    "print(f\"Accuracy: {accuracy_score_rf:.2f}\")\n",
    "print(f\"Precision: {precision_score_rf:.2f}\")\n",
    "print(f\"Recall: {recall_score_rf:.2f}\")\n",
    "print(f\"F1-Score: {f1_score_rf:.2f}\")\n",
    "print(\"Classification Report:\")\n",
    "print(sm.classification_report(y_test, y_pred_rf))"
   ]
  },
  {
   "cell_type": "code",
   "execution_count": null,
   "id": "ccee806b",
   "metadata": {},
   "outputs": [],
   "source": [
    "print(\"Confusion Matrix:\")\n",
    "print(conf_metric_rf)\n",
    "plt.figure(figsize = (10,7))\n",
    "sns.heatmap(conf_metric, annot = True)\n",
    "plt.xlabel('Predicted')\n",
    "plt.ylabel('Truth')\n",
    "plt.show()"
   ]
  },
  {
   "cell_type": "markdown",
   "id": "9cc2694e",
   "metadata": {},
   "source": [
    "Using XG_BOOST"
   ]
  },
  {
   "cell_type": "code",
   "execution_count": null,
   "id": "7e8a2007",
   "metadata": {},
   "outputs": [],
   "source": [
    "#Calculate scale_pos_weight\n",
    "neg, pos = np.bincount(y_train)   # counts of 0s and 1s in training\n",
    "scale_pos_weight = neg / pos\n",
    "\n",
    "# Train XGBoost with imbalance handling\n",
    "xg = XGBClassifier(\n",
    "    scale_pos_weight=scale_pos_weight,\n",
    "    learning_rate=0.05,\n",
    "    n_estimators=500,\n",
    "    max_depth=5,\n",
    "    subsample=0.8,\n",
    "    colsample_bytree=0.8,\n",
    "    random_state=42,\n",
    "    eval_metric=\"logloss\",\n",
    "\n",
    ")\n",
    "\n",
    "xg.fit(x_train, y_train)\n",
    "\n",
    "# Predictions\n",
    "y_proba = xg.predict_proba(x_test)[:,1]\n",
    "y_pred_xg = (y_proba >= 0.44).astype(int)\n"
   ]
  },
  {
   "cell_type": "code",
   "execution_count": null,
   "id": "632f5862",
   "metadata": {},
   "outputs": [],
   "source": [
    "conf_metric_xg = sm.confusion_matrix(y_test, y_pred_xg)\n",
    "accuracy_score_xg = sm.accuracy_score(y_test , y_pred_xg)\n",
    "precision_score_xg= sm.precision_score(y_test , y_pred_xg)\n",
    "recall_score_xg =  sm.recall_score(y_test, y_pred_xg)\n",
    "f1_score_xg = sm.f1_score(y_test , y_pred_xg)\n",
    "classf_report_xg = sm.classification_report(y_test , y_pred_xg)"
   ]
  },
  {
   "cell_type": "code",
   "execution_count": null,
   "id": "f59de59b",
   "metadata": {},
   "outputs": [],
   "source": [
    "print(f\"Accuracy: {accuracy_score_xg:.2f}\")\n",
    "print(f\"Precision: {precision_score_xg:.2f}\")\n",
    "print(f\"Recall: {recall_score_xg:.2f}\")\n",
    "print(f\"F1-Score: {f1_score_xg:.2f}\")\n",
    "print(\"Classification Report:\")\n",
    "print(sm.classification_report(y_test, y_pred_xg))"
   ]
  },
  {
   "cell_type": "code",
   "execution_count": null,
   "id": "2c52c183",
   "metadata": {},
   "outputs": [],
   "source": [
    "print(\"Confusion Matrix:\")\n",
    "print(conf_metric_xg)\n",
    "plt.figure(figsize = (10,7))\n",
    "sns.heatmap(conf_metric, annot = True)\n",
    "plt.xlabel('Predicted')\n",
    "plt.ylabel('Truth')\n",
    "plt.show()"
   ]
  },
  {
   "cell_type": "code",
   "execution_count": null,
   "id": "15a51c85",
   "metadata": {},
   "outputs": [],
   "source": [
    "from sklearn.metrics import roc_curve, auc\n",
    "\n",
    "# Compute ROC curve and AUC\n",
    "fpr, tpr, thresholds = roc_curve(y_test, y_proba)\n",
    "roc_auc = auc(fpr, tpr)\n",
    "\n",
    "# Plot\n",
    "plt.figure(figsize=(7,6))\n",
    "plt.plot(fpr, tpr, color=\"darkorange\", lw=2, \n",
    "         label=f\"XGBoost ROC curve (AUC = {roc_auc:.3f})\")\n",
    "plt.plot([0, 1], [0, 1], color=\"navy\", lw=2, linestyle=\"--\")\n",
    "\n",
    "plt.xlim([0.0, 1.0])\n",
    "plt.ylim([0.0, 1.05])\n",
    "plt.xlabel(\"False Positive Rate\")\n",
    "plt.ylabel(\"True Positive Rate\")\n",
    "plt.title(\"Receiver Operating Characteristic (ROC) Curve\")\n",
    "plt.legend(loc=\"lower right\")\n",
    "plt.grid(True, linestyle=\"--\", alpha=0.7)\n",
    "plt.show()\n"
   ]
  },
  {
   "cell_type": "markdown",
   "id": "70c10c5b",
   "metadata": {},
   "source": [
    "Predictive Modelling using XG_BOOST"
   ]
  },
  {
   "cell_type": "code",
   "execution_count": null,
   "id": "86a189d9",
   "metadata": {},
   "outputs": [],
   "source": [
    "# import pickle\n",
    "\n",
    "# # Save XGBoost model\n",
    "# with open('XGBoost.pkl', 'wb') as f:\n",
    "#     pickle.dump(xg, f)\n",
    "\n",
    "# #with open('random_forest_model.pkl', 'rb') as f:\n",
    "#    #  loaded_rf = pickle.load(f)"
   ]
  },
  {
   "cell_type": "code",
   "execution_count": null,
   "id": "4b58b03d",
   "metadata": {},
   "outputs": [],
   "source": []
  },
  {
   "cell_type": "code",
   "execution_count": null,
   "id": "11e17f83",
   "metadata": {},
   "outputs": [],
   "source": []
  },
  {
   "cell_type": "code",
   "execution_count": null,
   "id": "29ec7db6",
   "metadata": {},
   "outputs": [],
   "source": []
  },
  {
   "cell_type": "code",
   "execution_count": null,
   "id": "f879e594",
   "metadata": {},
   "outputs": [],
   "source": []
  },
  {
   "cell_type": "code",
   "execution_count": null,
   "id": "4d02d056",
   "metadata": {},
   "outputs": [],
   "source": []
  },
  {
   "cell_type": "code",
   "execution_count": null,
   "id": "436ff1c8",
   "metadata": {},
   "outputs": [],
   "source": []
  },
  {
   "cell_type": "code",
   "execution_count": null,
   "id": "fbdc6bb5",
   "metadata": {},
   "outputs": [],
   "source": []
  },
  {
   "cell_type": "code",
   "execution_count": null,
   "id": "500c542b",
   "metadata": {},
   "outputs": [],
   "source": []
  }
 ],
 "metadata": {
  "kernelspec": {
   "display_name": "Python 3",
   "language": "python",
   "name": "python3"
  },
  "language_info": {
   "codemirror_mode": {
    "name": "ipython",
    "version": 3
   },
   "file_extension": ".py",
   "mimetype": "text/x-python",
   "name": "python",
   "nbconvert_exporter": "python",
   "pygments_lexer": "ipython3",
   "version": "3.13.5"
  }
 },
 "nbformat": 4,
 "nbformat_minor": 5
}
